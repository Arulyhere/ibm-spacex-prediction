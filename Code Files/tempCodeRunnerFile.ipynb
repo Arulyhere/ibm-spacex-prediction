# Initial the map
site_map = folium.Map(location=nasa_coordinate, zoom_start=5)
# For each launch site, add a Circle object based on its coordinate (Lat, Long) values. In addition, add Launch site name as a popup label
for index in launch_sites_df.index:
    launch_sites_df[index]